{
 "cells": [
  {
   "cell_type": "code",
   "execution_count": 150,
   "metadata": {},
   "outputs": [],
   "source": [
    "import pandas as pd\n",
    "import cufflinks as cf\n",
    "import plotly.offline as plyo"
   ]
  },
  {
   "cell_type": "code",
   "execution_count": 151,
   "metadata": {},
   "outputs": [],
   "source": [
    "class InstrumentoFinancero(object):\n",
    "    autor = \"Marco\"\n",
    "\n",
    "    def __init__(self, simbolo, precio):\n",
    "        self.simbolo = simbolo\n",
    "        self.precio = precio"
   ]
  },
  {
   "cell_type": "code",
   "execution_count": 152,
   "metadata": {},
   "outputs": [
    {
     "data": {
      "text/plain": [
       "'Marco'"
      ]
     },
     "execution_count": 152,
     "metadata": {},
     "output_type": "execute_result"
    }
   ],
   "source": [
    "InstrumentoFinancero.autor"
   ]
  },
  {
   "cell_type": "code",
   "execution_count": 153,
   "metadata": {},
   "outputs": [],
   "source": [
    "Apple = InstrumentoFinancero(\"AAPL\", 125)"
   ]
  },
  {
   "cell_type": "code",
   "execution_count": 154,
   "metadata": {},
   "outputs": [
    {
     "name": "stdout",
     "output_type": "stream",
     "text": [
      "AAPL\n"
     ]
    }
   ],
   "source": [
    "print(Apple.simbolo)"
   ]
  },
  {
   "cell_type": "code",
   "execution_count": 155,
   "metadata": {},
   "outputs": [],
   "source": [
    "raw = pd.read_csv(\"eurusd_hour.csv\", parse_dates=True)"
   ]
  },
  {
   "cell_type": "code",
   "execution_count": 156,
   "metadata": {},
   "outputs": [
    {
     "name": "stdout",
     "output_type": "stream",
     "text": [
      "<class 'pandas.core.frame.DataFrame'>\n",
      "RangeIndex: 93084 entries, 0 to 93083\n",
      "Data columns (total 12 columns):\n",
      " #   Column  Non-Null Count  Dtype  \n",
      "---  ------  --------------  -----  \n",
      " 0   Date    93084 non-null  object \n",
      " 1   Time    93084 non-null  object \n",
      " 2   BO      93084 non-null  float64\n",
      " 3   BH      93084 non-null  float64\n",
      " 4   BL      93084 non-null  float64\n",
      " 5   BC      93084 non-null  float64\n",
      " 6   BCh     93084 non-null  float64\n",
      " 7   AO      93084 non-null  float64\n",
      " 8   AH      93084 non-null  float64\n",
      " 9   AL      93084 non-null  float64\n",
      " 10  AC      93084 non-null  float64\n",
      " 11  ACh     93084 non-null  float64\n",
      "dtypes: float64(10), object(2)\n",
      "memory usage: 8.5+ MB\n"
     ]
    }
   ],
   "source": [
    "raw.info()"
   ]
  },
  {
   "cell_type": "code",
   "execution_count": 157,
   "metadata": {},
   "outputs": [
    {
     "data": {
      "text/html": [
       "<div>\n",
       "<style scoped>\n",
       "    .dataframe tbody tr th:only-of-type {\n",
       "        vertical-align: middle;\n",
       "    }\n",
       "\n",
       "    .dataframe tbody tr th {\n",
       "        vertical-align: top;\n",
       "    }\n",
       "\n",
       "    .dataframe thead th {\n",
       "        text-align: right;\n",
       "    }\n",
       "</style>\n",
       "<table border=\"1\" class=\"dataframe\">\n",
       "  <thead>\n",
       "    <tr style=\"text-align: right;\">\n",
       "      <th></th>\n",
       "      <th>Date</th>\n",
       "      <th>Time</th>\n",
       "      <th>BO</th>\n",
       "      <th>BH</th>\n",
       "      <th>BL</th>\n",
       "      <th>BC</th>\n",
       "      <th>BCh</th>\n",
       "      <th>AO</th>\n",
       "      <th>AH</th>\n",
       "      <th>AL</th>\n",
       "      <th>AC</th>\n",
       "      <th>ACh</th>\n",
       "    </tr>\n",
       "  </thead>\n",
       "  <tbody>\n",
       "    <tr>\n",
       "      <th>0</th>\n",
       "      <td>2005-05-02</td>\n",
       "      <td>00:00</td>\n",
       "      <td>1.2852</td>\n",
       "      <td>1.2852</td>\n",
       "      <td>1.2840</td>\n",
       "      <td>1.2844</td>\n",
       "      <td>-0.0008</td>\n",
       "      <td>1.2854</td>\n",
       "      <td>1.2854</td>\n",
       "      <td>1.2842</td>\n",
       "      <td>1.2846</td>\n",
       "      <td>-0.0008</td>\n",
       "    </tr>\n",
       "    <tr>\n",
       "      <th>1</th>\n",
       "      <td>2005-05-02</td>\n",
       "      <td>01:00</td>\n",
       "      <td>1.2844</td>\n",
       "      <td>1.2848</td>\n",
       "      <td>1.2839</td>\n",
       "      <td>1.2842</td>\n",
       "      <td>-0.0002</td>\n",
       "      <td>1.2846</td>\n",
       "      <td>1.2850</td>\n",
       "      <td>1.2841</td>\n",
       "      <td>1.2844</td>\n",
       "      <td>-0.0002</td>\n",
       "    </tr>\n",
       "    <tr>\n",
       "      <th>2</th>\n",
       "      <td>2005-05-02</td>\n",
       "      <td>02:00</td>\n",
       "      <td>1.2843</td>\n",
       "      <td>1.2854</td>\n",
       "      <td>1.2841</td>\n",
       "      <td>1.2851</td>\n",
       "      <td>0.0008</td>\n",
       "      <td>1.2845</td>\n",
       "      <td>1.2856</td>\n",
       "      <td>1.2843</td>\n",
       "      <td>1.2853</td>\n",
       "      <td>0.0008</td>\n",
       "    </tr>\n",
       "    <tr>\n",
       "      <th>3</th>\n",
       "      <td>2005-05-02</td>\n",
       "      <td>03:00</td>\n",
       "      <td>1.2851</td>\n",
       "      <td>1.2859</td>\n",
       "      <td>1.2850</td>\n",
       "      <td>1.2851</td>\n",
       "      <td>0.0000</td>\n",
       "      <td>1.2853</td>\n",
       "      <td>1.2861</td>\n",
       "      <td>1.2852</td>\n",
       "      <td>1.2853</td>\n",
       "      <td>0.0000</td>\n",
       "    </tr>\n",
       "    <tr>\n",
       "      <th>4</th>\n",
       "      <td>2005-05-02</td>\n",
       "      <td>04:00</td>\n",
       "      <td>1.2852</td>\n",
       "      <td>1.2859</td>\n",
       "      <td>1.2849</td>\n",
       "      <td>1.2855</td>\n",
       "      <td>0.0003</td>\n",
       "      <td>1.2854</td>\n",
       "      <td>1.2861</td>\n",
       "      <td>1.2851</td>\n",
       "      <td>1.2857</td>\n",
       "      <td>0.0003</td>\n",
       "    </tr>\n",
       "  </tbody>\n",
       "</table>\n",
       "</div>"
      ],
      "text/plain": [
       "         Date   Time      BO      BH      BL      BC     BCh      AO      AH  \\\n",
       "0  2005-05-02  00:00  1.2852  1.2852  1.2840  1.2844 -0.0008  1.2854  1.2854   \n",
       "1  2005-05-02  01:00  1.2844  1.2848  1.2839  1.2842 -0.0002  1.2846  1.2850   \n",
       "2  2005-05-02  02:00  1.2843  1.2854  1.2841  1.2851  0.0008  1.2845  1.2856   \n",
       "3  2005-05-02  03:00  1.2851  1.2859  1.2850  1.2851  0.0000  1.2853  1.2861   \n",
       "4  2005-05-02  04:00  1.2852  1.2859  1.2849  1.2855  0.0003  1.2854  1.2861   \n",
       "\n",
       "       AL      AC     ACh  \n",
       "0  1.2842  1.2846 -0.0008  \n",
       "1  1.2841  1.2844 -0.0002  \n",
       "2  1.2843  1.2853  0.0008  \n",
       "3  1.2852  1.2853  0.0000  \n",
       "4  1.2851  1.2857  0.0003  "
      ]
     },
     "execution_count": 157,
     "metadata": {},
     "output_type": "execute_result"
    }
   ],
   "source": [
    "raw.head()"
   ]
  },
  {
   "cell_type": "code",
   "execution_count": 158,
   "metadata": {},
   "outputs": [],
   "source": [
    "raw['Datetime'] = pd.to_datetime(raw['Date'] + ' ' + raw['Time'])\n",
    "raw.drop(['Date', 'Time'], axis=1, inplace=True)"
   ]
  },
  {
   "cell_type": "code",
   "execution_count": 159,
   "metadata": {},
   "outputs": [
    {
     "data": {
      "text/html": [
       "<div>\n",
       "<style scoped>\n",
       "    .dataframe tbody tr th:only-of-type {\n",
       "        vertical-align: middle;\n",
       "    }\n",
       "\n",
       "    .dataframe tbody tr th {\n",
       "        vertical-align: top;\n",
       "    }\n",
       "\n",
       "    .dataframe thead th {\n",
       "        text-align: right;\n",
       "    }\n",
       "</style>\n",
       "<table border=\"1\" class=\"dataframe\">\n",
       "  <thead>\n",
       "    <tr style=\"text-align: right;\">\n",
       "      <th></th>\n",
       "      <th>open</th>\n",
       "      <th>high</th>\n",
       "      <th>low</th>\n",
       "      <th>close</th>\n",
       "    </tr>\n",
       "    <tr>\n",
       "      <th>Datetime</th>\n",
       "      <th></th>\n",
       "      <th></th>\n",
       "      <th></th>\n",
       "      <th></th>\n",
       "    </tr>\n",
       "  </thead>\n",
       "  <tbody>\n",
       "    <tr>\n",
       "      <th>2020-04-29 18:00:00</th>\n",
       "      <td>1.08620</td>\n",
       "      <td>1.08851</td>\n",
       "      <td>1.08611</td>\n",
       "      <td>1.08713</td>\n",
       "    </tr>\n",
       "    <tr>\n",
       "      <th>2020-04-29 19:00:00</th>\n",
       "      <td>1.08711</td>\n",
       "      <td>1.08823</td>\n",
       "      <td>1.08659</td>\n",
       "      <td>1.08748</td>\n",
       "    </tr>\n",
       "    <tr>\n",
       "      <th>2020-04-29 20:00:00</th>\n",
       "      <td>1.08747</td>\n",
       "      <td>1.08788</td>\n",
       "      <td>1.08691</td>\n",
       "      <td>1.08708</td>\n",
       "    </tr>\n",
       "    <tr>\n",
       "      <th>2020-04-29 21:00:00</th>\n",
       "      <td>1.08708</td>\n",
       "      <td>1.08740</td>\n",
       "      <td>1.08699</td>\n",
       "      <td>1.08714</td>\n",
       "    </tr>\n",
       "    <tr>\n",
       "      <th>2020-04-29 22:00:00</th>\n",
       "      <td>1.08728</td>\n",
       "      <td>1.08760</td>\n",
       "      <td>1.08727</td>\n",
       "      <td>1.08743</td>\n",
       "    </tr>\n",
       "  </tbody>\n",
       "</table>\n",
       "</div>"
      ],
      "text/plain": [
       "                        open     high      low    close\n",
       "Datetime                                               \n",
       "2020-04-29 18:00:00  1.08620  1.08851  1.08611  1.08713\n",
       "2020-04-29 19:00:00  1.08711  1.08823  1.08659  1.08748\n",
       "2020-04-29 20:00:00  1.08747  1.08788  1.08691  1.08708\n",
       "2020-04-29 21:00:00  1.08708  1.08740  1.08699  1.08714\n",
       "2020-04-29 22:00:00  1.08728  1.08760  1.08727  1.08743"
      ]
     },
     "execution_count": 159,
     "metadata": {},
     "output_type": "execute_result"
    }
   ],
   "source": [
    "quotes = raw[['Datetime', 'BO', 'BH', 'BL', 'BC']]\n",
    "quotes.set_index('Datetime', inplace=True)\n",
    "quotes.index = quotes.index.astype(str)\n",
    "\n",
    "quotes.rename(columns={'BO': 'open', 'BH': 'high',\n",
    "\n",
    "\n",
    "\n",
    "\n",
    "              'BL': 'low', 'BC': 'close'}, inplace=True)\n",
    "\n",
    "quotes = quotes.iloc[-60:]\n",
    "\n",
    "\n",
    "quotes.tail()"
   ]
  },
  {
   "cell_type": "code",
   "execution_count": 160,
   "metadata": {},
   "outputs": [
    {
     "name": "stdout",
     "output_type": "stream",
     "text": [
      "object\n"
     ]
    }
   ],
   "source": [
    "print(quotes.index.dtype)"
   ]
  },
  {
   "cell_type": "code",
   "execution_count": 161,
   "metadata": {},
   "outputs": [],
   "source": [
    "\n",
    "qf = cf.QuantFig(quotes, title='EUR/USD Hourly', legend='top', name='EUR/USD')"
   ]
  },
  {
   "cell_type": "code",
   "execution_count": 162,
   "metadata": {},
   "outputs": [
    {
     "data": {
      "application/vnd.plotly.v1+json": {
       "config": {
        "linkText": "Export to plot.ly",
        "plotlyServerURL": "https://plot.ly",
        "showLink": false
       },
       "data": [
        {
         "close": [
          1.08543,
          1.08505,
          1.08467,
          1.084,
          1.08279,
          1.08207,
          1.08287,
          1.08316,
          1.08285,
          1.08268,
          1.08271,
          1.08279,
          1.08239,
          1.08323,
          1.0824200000000002,
          1.08269,
          1.08237,
          1.08211,
          1.08245,
          1.0812,
          1.08386,
          1.08494,
          1.08754,
          1.08818,
          1.08856,
          1.08695,
          1.0843,
          1.08317,
          1.08357,
          1.08311,
          1.08351,
          1.08349,
          1.08321,
          1.08187,
          1.08189,
          1.08247,
          1.08319,
          1.08408,
          1.08456,
          1.08504,
          1.08461,
          1.08493,
          1.08548,
          1.08505,
          1.08696,
          1.08656,
          1.08552,
          1.08502,
          1.08418,
          1.08566,
          1.08635,
          1.08512,
          1.08519,
          1.08471,
          1.08625,
          1.08713,
          1.08748,
          1.0870799999999998,
          1.08714,
          1.08743
         ],
         "decreasing": {
          "line": {
           "color": "#808080"
          }
         },
         "high": [
          1.08546,
          1.08579,
          1.08568,
          1.08468,
          1.0842200000000002,
          1.08283,
          1.08307,
          1.08328,
          1.0833700000000002,
          1.0829799999999998,
          1.08274,
          1.08282,
          1.08293,
          1.08353,
          1.08338,
          1.08275,
          1.08268,
          1.08236,
          1.08268,
          1.08249,
          1.08402,
          1.08578,
          1.08847,
          1.08837,
          1.08878,
          1.08875,
          1.08741,
          1.08573,
          1.08458,
          1.08379,
          1.08365,
          1.08394,
          1.08378,
          1.08336,
          1.082,
          1.0826,
          1.08323,
          1.08416,
          1.0853700000000002,
          1.0852700000000002,
          1.08505,
          1.08496,
          1.08561,
          1.08552,
          1.08712,
          1.08735,
          1.08722,
          1.08588,
          1.08538,
          1.08567,
          1.08676,
          1.0866,
          1.08574,
          1.08563,
          1.0867,
          1.08851,
          1.08823,
          1.08788,
          1.0874,
          1.0876
         ],
         "increasing": {
          "line": {
           "color": "#17BECF"
          }
         },
         "low": [
          1.08333,
          1.0843,
          1.08433,
          1.08269,
          1.08273,
          1.08158,
          1.082,
          1.08259,
          1.0827,
          1.0824,
          1.0819,
          1.08234,
          1.08228,
          1.0822,
          1.08228,
          1.08231,
          1.0823,
          1.08162,
          1.0818299999999998,
          1.08089,
          1.08094,
          1.08365,
          1.0843200000000002,
          1.0868,
          1.0878,
          1.08691,
          1.08389,
          1.08292,
          1.0824200000000002,
          1.08246,
          1.08263,
          1.08324,
          1.083,
          1.0817,
          1.08151,
          1.08189,
          1.08233,
          1.08303,
          1.08387,
          1.08437,
          1.08402,
          1.08431,
          1.08477,
          1.08387,
          1.08446,
          1.08623,
          1.08541,
          1.08459,
          1.08405,
          1.08389,
          1.08542,
          1.0842200000000002,
          1.08446,
          1.08467,
          1.08462,
          1.08611,
          1.08659,
          1.08691,
          1.08699,
          1.0872700000000002
         ],
         "name": "EUR/USD",
         "open": [
          1.08514,
          1.08541,
          1.08506,
          1.08465,
          1.08396,
          1.08281,
          1.08206,
          1.08286,
          1.08317,
          1.08284,
          1.08268,
          1.08266,
          1.08281,
          1.08236,
          1.0832,
          1.0824,
          1.08268,
          1.08236,
          1.0821,
          1.08247,
          1.08121,
          1.08387,
          1.08492,
          1.08752,
          1.08819,
          1.08857,
          1.08695,
          1.0843200000000002,
          1.08315,
          1.08356,
          1.08312,
          1.08349,
          1.08345,
          1.08323,
          1.08158,
          1.08194,
          1.08246,
          1.08318,
          1.08405,
          1.08457,
          1.08505,
          1.08461,
          1.08494,
          1.08549,
          1.08507,
          1.08695,
          1.08657,
          1.08551,
          1.08501,
          1.0842,
          1.08567,
          1.08636,
          1.08513,
          1.0852,
          1.0847,
          1.0862,
          1.08711,
          1.0874700000000002,
          1.0870799999999998,
          1.08728
         ],
         "showlegend": true,
         "type": "candlestick",
         "x": [
          "2020-04-27 11:00:00",
          "2020-04-27 12:00:00",
          "2020-04-27 13:00:00",
          "2020-04-27 14:00:00",
          "2020-04-27 15:00:00",
          "2020-04-27 16:00:00",
          "2020-04-27 17:00:00",
          "2020-04-27 18:00:00",
          "2020-04-27 19:00:00",
          "2020-04-27 20:00:00",
          "2020-04-27 21:00:00",
          "2020-04-27 22:00:00",
          "2020-04-27 23:00:00",
          "2020-04-28 00:00:00",
          "2020-04-28 01:00:00",
          "2020-04-28 02:00:00",
          "2020-04-28 03:00:00",
          "2020-04-28 04:00:00",
          "2020-04-28 05:00:00",
          "2020-04-28 06:00:00",
          "2020-04-28 07:00:00",
          "2020-04-28 08:00:00",
          "2020-04-28 09:00:00",
          "2020-04-28 10:00:00",
          "2020-04-28 11:00:00",
          "2020-04-28 12:00:00",
          "2020-04-28 13:00:00",
          "2020-04-28 14:00:00",
          "2020-04-28 15:00:00",
          "2020-04-28 16:00:00",
          "2020-04-28 17:00:00",
          "2020-04-28 18:00:00",
          "2020-04-28 19:00:00",
          "2020-04-28 20:00:00",
          "2020-04-28 21:00:00",
          "2020-04-28 22:00:00",
          "2020-04-28 23:00:00",
          "2020-04-29 00:00:00",
          "2020-04-29 01:00:00",
          "2020-04-29 02:00:00",
          "2020-04-29 03:00:00",
          "2020-04-29 04:00:00",
          "2020-04-29 05:00:00",
          "2020-04-29 06:00:00",
          "2020-04-29 07:00:00",
          "2020-04-29 08:00:00",
          "2020-04-29 09:00:00",
          "2020-04-29 10:00:00",
          "2020-04-29 11:00:00",
          "2020-04-29 12:00:00",
          "2020-04-29 13:00:00",
          "2020-04-29 14:00:00",
          "2020-04-29 15:00:00",
          "2020-04-29 16:00:00",
          "2020-04-29 17:00:00",
          "2020-04-29 18:00:00",
          "2020-04-29 19:00:00",
          "2020-04-29 20:00:00",
          "2020-04-29 21:00:00",
          "2020-04-29 22:00:00"
         ],
         "yaxis": "y2"
        }
       ],
       "layout": {
        "legend": {
         "bgcolor": "#F5F6F9",
         "font": {
          "color": "#4D5663"
         },
         "orientation": "h",
         "x": 0.3,
         "y": 0.95,
         "yanchor": "bottom"
        },
        "margin": {
         "b": 30,
         "l": 30,
         "r": 30,
         "t": 30
        },
        "paper_bgcolor": "#F5F6F9",
        "plot_bgcolor": "#F5F6F9",
        "showlegend": true,
        "template": {
         "data": {
          "bar": [
           {
            "error_x": {
             "color": "#2a3f5f"
            },
            "error_y": {
             "color": "#2a3f5f"
            },
            "marker": {
             "line": {
              "color": "#E5ECF6",
              "width": 0.5
             },
             "pattern": {
              "fillmode": "overlay",
              "size": 10,
              "solidity": 0.2
             }
            },
            "type": "bar"
           }
          ],
          "barpolar": [
           {
            "marker": {
             "line": {
              "color": "#E5ECF6",
              "width": 0.5
             },
             "pattern": {
              "fillmode": "overlay",
              "size": 10,
              "solidity": 0.2
             }
            },
            "type": "barpolar"
           }
          ],
          "carpet": [
           {
            "aaxis": {
             "endlinecolor": "#2a3f5f",
             "gridcolor": "white",
             "linecolor": "white",
             "minorgridcolor": "white",
             "startlinecolor": "#2a3f5f"
            },
            "baxis": {
             "endlinecolor": "#2a3f5f",
             "gridcolor": "white",
             "linecolor": "white",
             "minorgridcolor": "white",
             "startlinecolor": "#2a3f5f"
            },
            "type": "carpet"
           }
          ],
          "choropleth": [
           {
            "colorbar": {
             "outlinewidth": 0,
             "ticks": ""
            },
            "type": "choropleth"
           }
          ],
          "contour": [
           {
            "colorbar": {
             "outlinewidth": 0,
             "ticks": ""
            },
            "colorscale": [
             [
              0,
              "#0d0887"
             ],
             [
              0.1111111111111111,
              "#46039f"
             ],
             [
              0.2222222222222222,
              "#7201a8"
             ],
             [
              0.3333333333333333,
              "#9c179e"
             ],
             [
              0.4444444444444444,
              "#bd3786"
             ],
             [
              0.5555555555555556,
              "#d8576b"
             ],
             [
              0.6666666666666666,
              "#ed7953"
             ],
             [
              0.7777777777777778,
              "#fb9f3a"
             ],
             [
              0.8888888888888888,
              "#fdca26"
             ],
             [
              1,
              "#f0f921"
             ]
            ],
            "type": "contour"
           }
          ],
          "contourcarpet": [
           {
            "colorbar": {
             "outlinewidth": 0,
             "ticks": ""
            },
            "type": "contourcarpet"
           }
          ],
          "heatmap": [
           {
            "colorbar": {
             "outlinewidth": 0,
             "ticks": ""
            },
            "colorscale": [
             [
              0,
              "#0d0887"
             ],
             [
              0.1111111111111111,
              "#46039f"
             ],
             [
              0.2222222222222222,
              "#7201a8"
             ],
             [
              0.3333333333333333,
              "#9c179e"
             ],
             [
              0.4444444444444444,
              "#bd3786"
             ],
             [
              0.5555555555555556,
              "#d8576b"
             ],
             [
              0.6666666666666666,
              "#ed7953"
             ],
             [
              0.7777777777777778,
              "#fb9f3a"
             ],
             [
              0.8888888888888888,
              "#fdca26"
             ],
             [
              1,
              "#f0f921"
             ]
            ],
            "type": "heatmap"
           }
          ],
          "heatmapgl": [
           {
            "colorbar": {
             "outlinewidth": 0,
             "ticks": ""
            },
            "colorscale": [
             [
              0,
              "#0d0887"
             ],
             [
              0.1111111111111111,
              "#46039f"
             ],
             [
              0.2222222222222222,
              "#7201a8"
             ],
             [
              0.3333333333333333,
              "#9c179e"
             ],
             [
              0.4444444444444444,
              "#bd3786"
             ],
             [
              0.5555555555555556,
              "#d8576b"
             ],
             [
              0.6666666666666666,
              "#ed7953"
             ],
             [
              0.7777777777777778,
              "#fb9f3a"
             ],
             [
              0.8888888888888888,
              "#fdca26"
             ],
             [
              1,
              "#f0f921"
             ]
            ],
            "type": "heatmapgl"
           }
          ],
          "histogram": [
           {
            "marker": {
             "pattern": {
              "fillmode": "overlay",
              "size": 10,
              "solidity": 0.2
             }
            },
            "type": "histogram"
           }
          ],
          "histogram2d": [
           {
            "colorbar": {
             "outlinewidth": 0,
             "ticks": ""
            },
            "colorscale": [
             [
              0,
              "#0d0887"
             ],
             [
              0.1111111111111111,
              "#46039f"
             ],
             [
              0.2222222222222222,
              "#7201a8"
             ],
             [
              0.3333333333333333,
              "#9c179e"
             ],
             [
              0.4444444444444444,
              "#bd3786"
             ],
             [
              0.5555555555555556,
              "#d8576b"
             ],
             [
              0.6666666666666666,
              "#ed7953"
             ],
             [
              0.7777777777777778,
              "#fb9f3a"
             ],
             [
              0.8888888888888888,
              "#fdca26"
             ],
             [
              1,
              "#f0f921"
             ]
            ],
            "type": "histogram2d"
           }
          ],
          "histogram2dcontour": [
           {
            "colorbar": {
             "outlinewidth": 0,
             "ticks": ""
            },
            "colorscale": [
             [
              0,
              "#0d0887"
             ],
             [
              0.1111111111111111,
              "#46039f"
             ],
             [
              0.2222222222222222,
              "#7201a8"
             ],
             [
              0.3333333333333333,
              "#9c179e"
             ],
             [
              0.4444444444444444,
              "#bd3786"
             ],
             [
              0.5555555555555556,
              "#d8576b"
             ],
             [
              0.6666666666666666,
              "#ed7953"
             ],
             [
              0.7777777777777778,
              "#fb9f3a"
             ],
             [
              0.8888888888888888,
              "#fdca26"
             ],
             [
              1,
              "#f0f921"
             ]
            ],
            "type": "histogram2dcontour"
           }
          ],
          "mesh3d": [
           {
            "colorbar": {
             "outlinewidth": 0,
             "ticks": ""
            },
            "type": "mesh3d"
           }
          ],
          "parcoords": [
           {
            "line": {
             "colorbar": {
              "outlinewidth": 0,
              "ticks": ""
             }
            },
            "type": "parcoords"
           }
          ],
          "pie": [
           {
            "automargin": true,
            "type": "pie"
           }
          ],
          "scatter": [
           {
            "fillpattern": {
             "fillmode": "overlay",
             "size": 10,
             "solidity": 0.2
            },
            "type": "scatter"
           }
          ],
          "scatter3d": [
           {
            "line": {
             "colorbar": {
              "outlinewidth": 0,
              "ticks": ""
             }
            },
            "marker": {
             "colorbar": {
              "outlinewidth": 0,
              "ticks": ""
             }
            },
            "type": "scatter3d"
           }
          ],
          "scattercarpet": [
           {
            "marker": {
             "colorbar": {
              "outlinewidth": 0,
              "ticks": ""
             }
            },
            "type": "scattercarpet"
           }
          ],
          "scattergeo": [
           {
            "marker": {
             "colorbar": {
              "outlinewidth": 0,
              "ticks": ""
             }
            },
            "type": "scattergeo"
           }
          ],
          "scattergl": [
           {
            "marker": {
             "colorbar": {
              "outlinewidth": 0,
              "ticks": ""
             }
            },
            "type": "scattergl"
           }
          ],
          "scattermapbox": [
           {
            "marker": {
             "colorbar": {
              "outlinewidth": 0,
              "ticks": ""
             }
            },
            "type": "scattermapbox"
           }
          ],
          "scatterpolar": [
           {
            "marker": {
             "colorbar": {
              "outlinewidth": 0,
              "ticks": ""
             }
            },
            "type": "scatterpolar"
           }
          ],
          "scatterpolargl": [
           {
            "marker": {
             "colorbar": {
              "outlinewidth": 0,
              "ticks": ""
             }
            },
            "type": "scatterpolargl"
           }
          ],
          "scatterternary": [
           {
            "marker": {
             "colorbar": {
              "outlinewidth": 0,
              "ticks": ""
             }
            },
            "type": "scatterternary"
           }
          ],
          "surface": [
           {
            "colorbar": {
             "outlinewidth": 0,
             "ticks": ""
            },
            "colorscale": [
             [
              0,
              "#0d0887"
             ],
             [
              0.1111111111111111,
              "#46039f"
             ],
             [
              0.2222222222222222,
              "#7201a8"
             ],
             [
              0.3333333333333333,
              "#9c179e"
             ],
             [
              0.4444444444444444,
              "#bd3786"
             ],
             [
              0.5555555555555556,
              "#d8576b"
             ],
             [
              0.6666666666666666,
              "#ed7953"
             ],
             [
              0.7777777777777778,
              "#fb9f3a"
             ],
             [
              0.8888888888888888,
              "#fdca26"
             ],
             [
              1,
              "#f0f921"
             ]
            ],
            "type": "surface"
           }
          ],
          "table": [
           {
            "cells": {
             "fill": {
              "color": "#EBF0F8"
             },
             "line": {
              "color": "white"
             }
            },
            "header": {
             "fill": {
              "color": "#C8D4E3"
             },
             "line": {
              "color": "white"
             }
            },
            "type": "table"
           }
          ]
         },
         "layout": {
          "annotationdefaults": {
           "arrowcolor": "#2a3f5f",
           "arrowhead": 0,
           "arrowwidth": 1
          },
          "autotypenumbers": "strict",
          "coloraxis": {
           "colorbar": {
            "outlinewidth": 0,
            "ticks": ""
           }
          },
          "colorscale": {
           "diverging": [
            [
             0,
             "#8e0152"
            ],
            [
             0.1,
             "#c51b7d"
            ],
            [
             0.2,
             "#de77ae"
            ],
            [
             0.3,
             "#f1b6da"
            ],
            [
             0.4,
             "#fde0ef"
            ],
            [
             0.5,
             "#f7f7f7"
            ],
            [
             0.6,
             "#e6f5d0"
            ],
            [
             0.7,
             "#b8e186"
            ],
            [
             0.8,
             "#7fbc41"
            ],
            [
             0.9,
             "#4d9221"
            ],
            [
             1,
             "#276419"
            ]
           ],
           "sequential": [
            [
             0,
             "#0d0887"
            ],
            [
             0.1111111111111111,
             "#46039f"
            ],
            [
             0.2222222222222222,
             "#7201a8"
            ],
            [
             0.3333333333333333,
             "#9c179e"
            ],
            [
             0.4444444444444444,
             "#bd3786"
            ],
            [
             0.5555555555555556,
             "#d8576b"
            ],
            [
             0.6666666666666666,
             "#ed7953"
            ],
            [
             0.7777777777777778,
             "#fb9f3a"
            ],
            [
             0.8888888888888888,
             "#fdca26"
            ],
            [
             1,
             "#f0f921"
            ]
           ],
           "sequentialminus": [
            [
             0,
             "#0d0887"
            ],
            [
             0.1111111111111111,
             "#46039f"
            ],
            [
             0.2222222222222222,
             "#7201a8"
            ],
            [
             0.3333333333333333,
             "#9c179e"
            ],
            [
             0.4444444444444444,
             "#bd3786"
            ],
            [
             0.5555555555555556,
             "#d8576b"
            ],
            [
             0.6666666666666666,
             "#ed7953"
            ],
            [
             0.7777777777777778,
             "#fb9f3a"
            ],
            [
             0.8888888888888888,
             "#fdca26"
            ],
            [
             1,
             "#f0f921"
            ]
           ]
          },
          "colorway": [
           "#636efa",
           "#EF553B",
           "#00cc96",
           "#ab63fa",
           "#FFA15A",
           "#19d3f3",
           "#FF6692",
           "#B6E880",
           "#FF97FF",
           "#FECB52"
          ],
          "font": {
           "color": "#2a3f5f"
          },
          "geo": {
           "bgcolor": "white",
           "lakecolor": "white",
           "landcolor": "#E5ECF6",
           "showlakes": true,
           "showland": true,
           "subunitcolor": "white"
          },
          "hoverlabel": {
           "align": "left"
          },
          "hovermode": "closest",
          "mapbox": {
           "style": "light"
          },
          "paper_bgcolor": "white",
          "plot_bgcolor": "#E5ECF6",
          "polar": {
           "angularaxis": {
            "gridcolor": "white",
            "linecolor": "white",
            "ticks": ""
           },
           "bgcolor": "#E5ECF6",
           "radialaxis": {
            "gridcolor": "white",
            "linecolor": "white",
            "ticks": ""
           }
          },
          "scene": {
           "xaxis": {
            "backgroundcolor": "#E5ECF6",
            "gridcolor": "white",
            "gridwidth": 2,
            "linecolor": "white",
            "showbackground": true,
            "ticks": "",
            "zerolinecolor": "white"
           },
           "yaxis": {
            "backgroundcolor": "#E5ECF6",
            "gridcolor": "white",
            "gridwidth": 2,
            "linecolor": "white",
            "showbackground": true,
            "ticks": "",
            "zerolinecolor": "white"
           },
           "zaxis": {
            "backgroundcolor": "#E5ECF6",
            "gridcolor": "white",
            "gridwidth": 2,
            "linecolor": "white",
            "showbackground": true,
            "ticks": "",
            "zerolinecolor": "white"
           }
          },
          "shapedefaults": {
           "line": {
            "color": "#2a3f5f"
           }
          },
          "ternary": {
           "aaxis": {
            "gridcolor": "white",
            "linecolor": "white",
            "ticks": ""
           },
           "baxis": {
            "gridcolor": "white",
            "linecolor": "white",
            "ticks": ""
           },
           "bgcolor": "#E5ECF6",
           "caxis": {
            "gridcolor": "white",
            "linecolor": "white",
            "ticks": ""
           }
          },
          "title": {
           "x": 0.05
          },
          "xaxis": {
           "automargin": true,
           "gridcolor": "white",
           "linecolor": "white",
           "ticks": "",
           "title": {
            "standoff": 15
           },
           "zerolinecolor": "white",
           "zerolinewidth": 2
          },
          "yaxis": {
           "automargin": true,
           "gridcolor": "white",
           "linecolor": "white",
           "ticks": "",
           "title": {
            "standoff": 15
           },
           "zerolinecolor": "white",
           "zerolinewidth": 2
          }
         }
        },
        "title": {
         "font": {
          "color": "#4D5663"
         },
         "text": "EUR/USD Hourly"
        },
        "xaxis": {
         "anchor": "y2",
         "gridcolor": "#E1E5ED",
         "rangeselector": {
          "bgcolor": "rgba(150, 200, 250, 1)",
          "buttons": [
           {
            "count": 1,
            "label": "1m",
            "step": "month",
            "stepmode": "backward"
           },
           {
            "count": 1,
            "label": "1y",
            "step": "year",
            "stepmode": "backward"
           }
          ],
          "font": {
           "size": 13
          },
          "visible": false,
          "x": 0,
          "y": 0.9
         },
         "rangeslider": {
          "visible": false
         },
         "showgrid": true,
         "tickfont": {
          "color": "#4D5663"
         },
         "title": {
          "font": {
           "color": "#4D5663"
          },
          "text": ""
         },
         "zerolinecolor": "#E1E5ED"
        },
        "yaxis": {
         "gridcolor": "#E1E5ED",
         "showgrid": true,
         "showticklabels": false,
         "tickfont": {
          "color": "#4D5663"
         },
         "title": {
          "font": {
           "color": "#4D5663"
          },
          "text": ""
         },
         "zerolinecolor": "#E1E5ED"
        },
        "yaxis2": {
         "domain": [
          0,
          0.9
         ],
         "gridcolor": "#E1E5ED",
         "showgrid": true,
         "tickfont": {
          "color": "#4D5663"
         },
         "title": {
          "font": {
           "color": "#4D5663"
          },
          "text": ""
         },
         "zerolinecolor": "#E1E5ED"
        }
       }
      }
     },
     "metadata": {},
     "output_type": "display_data"
    }
   ],
   "source": [
    "plyo.iplot(qf.iplot(asFigure=True))"
   ]
  }
 ],
 "metadata": {
  "kernelspec": {
   "display_name": "mienv",
   "language": "python",
   "name": "python3"
  },
  "language_info": {
   "codemirror_mode": {
    "name": "ipython",
    "version": 3
   },
   "file_extension": ".py",
   "mimetype": "text/x-python",
   "name": "python",
   "nbconvert_exporter": "python",
   "pygments_lexer": "ipython3",
   "version": "3.12.3"
  }
 },
 "nbformat": 4,
 "nbformat_minor": 2
}
